{
 "cells": [
  {
   "cell_type": "code",
   "execution_count": 1,
   "metadata": {},
   "outputs": [],
   "source": [
    "import numpy as np\n",
    "import matplotlib.pyplot as plt\n",
    "%matplotlib inline"
   ]
  },
  {
   "cell_type": "markdown",
   "metadata": {},
   "source": [
    "This notebook will illustrate the uniformity in time of the method of averaging applied to the following fast-slow system\n",
    "\n",
    "\\begin{align}\n",
    "dX_t &= - (Y_t+X_t)dt + \\sqrt{2}dW_t \\\\\n",
    "dY_t &= -\\frac{1}{\\epsilon}(X_t + V'(Y_t))dt + \\frac{1}{\\sqrt{\\epsilon}}\\sqrt{2}dW_t\n",
    "\\end{align}"
   ]
  },
  {
   "cell_type": "markdown",
   "metadata": {},
   "source": [
    "The cell below defines the different potentials $V'(y)$ for the slow process:\n",
    "\n",
    "\n",
    "\"conv\" : $V'(y) = -y$\n",
    "\n",
    "\"doubleWell\" : $V'(y) = -y(y+2)(y-2)$\n",
    "\n",
    "which correspond to the following potentials V(y):"
   ]
  },
  {
   "cell_type": "code",
   "execution_count": 2,
   "metadata": {},
   "outputs": [
    {
     "data": {
      "text/plain": [
       "Text(0.5, 1.0, 'Convex')"
      ]
     },
     "execution_count": 2,
     "metadata": {},
     "output_type": "execute_result"
    },
    {
     "data": {
      "image/png": "[encoded data removed]",
      "text/plain": [
       "<Figure size 432x288 with 1 Axes>"
      ]
     },
     "metadata": {
      "needs_background": "light"
     },
     "output_type": "display_data"
    }
   ],
   "source": [
    "y = np.linspace(-4,4,1000)\n",
    "plt.plot(y,y**2/2)\n",
    "plt.title(\"Convex\")"
   ]
  },
  {
   "cell_type": "code",
   "execution_count": 4,
   "metadata": {},
   "outputs": [
    {
     "data": {
      "text/plain": [
       "Text(0.5, 1.0, 'Double well')"
      ]
     },
     "execution_count": 4,
     "metadata": {},
     "output_type": "execute_result"
    },
    {
     "data": {
      "image/png": "[encoded data removed]",
      "text/plain": [
       "<Figure size 432x288 with 1 Axes>"
      ]
     },
     "metadata": {
      "needs_background": "light"
     },
     "output_type": "display_data"
    }
   ],
   "source": [
    "y = np.linspace(-4,4,1000)\n",
    "plt.plot(y,y**4/4-2*y**2)\n",
    "plt.title(\"Double well\")"
   ]
  },
  {
   "cell_type": "code",
   "execution_count": 3,
   "metadata": {},
   "outputs": [],
   "source": [
    "def potential(y, x, driftType):\n",
    "    if (driftType == \"conv\"):\n",
    "        return(-y)\n",
    "    if (driftType == \"doubleWell\"):\n",
    "        return(-y*(y+2)*(y-2))    "
   ]
  },
  {
   "cell_type": "code",
   "execution_count": 34,
   "metadata": {},
   "outputs": [],
   "source": [
    "def dynamics(y, x,x_avged, driftType):\n",
    "    means = np.zeros(n_steps)\n",
    "    var = np.zeros(n_steps)\n",
    "    means[0] = 0\n",
    "    var[0] = 0\n",
    "    x1 = []\n",
    "    x_avged1 = []\n",
    "    for i in range(n_steps):\n",
    "        y = y + (1/epsilon)*potential(y, x, driftType)*h + (np.sqrt(2)*sqrth/sqrtEp) * np.random.randn(n_particles)\n",
    "        x= x - (y+x)*h + sqrth * np.random.randn(n_particles)   \n",
    "        x_avged = x_avged - x_avged*h + sqrth * np.random.randn(n_particles)\n",
    "        means[i] = np.abs(np.mean(x - x_avged))\n",
    "        var[i] = np.abs(np.mean(x**2-x_avged**2))\n",
    "        if(i%(n_steps/20) ==0):\n",
    "            print(i)\n",
    "            x1.append(x)\n",
    "            x_avged1.append(x_avged)\n",
    "    return(means,var, x1, x_avged1, y)"
   ]
  },
  {
   "cell_type": "code",
   "execution_count": 5,
   "metadata": {},
   "outputs": [
    {
     "name": "stdout",
     "output_type": "stream",
     "text": [
      "100000\n",
      "1\n",
      "10\n"
     ]
    },
    {
     "name": "stderr",
     "output_type": "stream",
     "text": [
      "/home/s1992251/anaconda3/lib/python3.7/site-packages/ipykernel_launcher.py:12: RuntimeWarning: divide by zero encountered in log10\n",
      "  if sys.path[0] == '':\n",
      "/home/s1992251/anaconda3/lib/python3.7/site-packages/ipykernel_launcher.py:12: RuntimeWarning: invalid value encountered in double_scalars\n",
      "  if sys.path[0] == '':\n"
     ]
    },
    {
     "name": "stdout",
     "output_type": "stream",
     "text": [
      "100\n"
     ]
    },
    {
     "ename": "KeyboardInterrupt",
     "evalue": "",
     "output_type": "error",
     "traceback": [
      "\u001b[0;31m---------------------------------------------------------------------------\u001b[0m",
      "\u001b[0;31mKeyboardInterrupt\u001b[0m                         Traceback (most recent call last)",
      "\u001b[0;32m<ipython-input-5-4ea05ba4e6a9>\u001b[0m in \u001b[0;36m<module>\u001b[0;34m\u001b[0m\n\u001b[1;32m     13\u001b[0m     \u001b[0mprint\u001b[0m\u001b[0;34m(\u001b[0m\u001b[0mnp\u001b[0m\u001b[0;34m.\u001b[0m\u001b[0mrandom\u001b[0m\u001b[0;34m.\u001b[0m\u001b[0muniform\u001b[0m\u001b[0;34m(\u001b[0m\u001b[0;36m0\u001b[0m\u001b[0;34m,\u001b[0m\u001b[0;36m1\u001b[0m\u001b[0;34m,\u001b[0m \u001b[0mn_particles\u001b[0m\u001b[0;34m)\u001b[0m\u001b[0;34m.\u001b[0m\u001b[0msize\u001b[0m\u001b[0;34m)\u001b[0m\u001b[0;34m\u001b[0m\u001b[0;34m\u001b[0m\u001b[0m\n\u001b[1;32m     14\u001b[0m \u001b[0;34m\u001b[0m\u001b[0m\n\u001b[0;32m---> 15\u001b[0;31m     \u001b[0mm\u001b[0m\u001b[0;34m,\u001b[0m \u001b[0mv\u001b[0m\u001b[0;34m,\u001b[0m \u001b[0mx\u001b[0m\u001b[0;34m,\u001b[0m \u001b[0mx_avged\u001b[0m\u001b[0;34m,\u001b[0m \u001b[0my\u001b[0m\u001b[0;34m=\u001b[0m \u001b[0mdynamics\u001b[0m\u001b[0;34m(\u001b[0m\u001b[0mnp\u001b[0m\u001b[0;34m.\u001b[0m\u001b[0mzeros\u001b[0m\u001b[0;34m(\u001b[0m\u001b[0mn_particles\u001b[0m\u001b[0;34m)\u001b[0m\u001b[0;34m,\u001b[0m \u001b[0mnp\u001b[0m\u001b[0;34m.\u001b[0m\u001b[0mzeros\u001b[0m\u001b[0;34m(\u001b[0m \u001b[0mn_particles\u001b[0m\u001b[0;34m)\u001b[0m\u001b[0;34m,\u001b[0m \u001b[0mnp\u001b[0m\u001b[0;34m.\u001b[0m\u001b[0mzeros\u001b[0m\u001b[0;34m(\u001b[0m \u001b[0mn_particles\u001b[0m\u001b[0;34m)\u001b[0m\u001b[0;34m,\u001b[0m \u001b[0;34m\"conv\"\u001b[0m\u001b[0;34m)\u001b[0m\u001b[0;34m\u001b[0m\u001b[0;34m\u001b[0m\u001b[0m\n\u001b[0m\u001b[1;32m     16\u001b[0m     \u001b[0mplt\u001b[0m\u001b[0;34m.\u001b[0m\u001b[0mplot\u001b[0m\u001b[0;34m(\u001b[0m\u001b[0mv\u001b[0m\u001b[0;34m)\u001b[0m\u001b[0;34m\u001b[0m\u001b[0;34m\u001b[0m\u001b[0m\n",
      "\u001b[0;32m<ipython-input-4-46d0101c4c21>\u001b[0m in \u001b[0;36mdynamics\u001b[0;34m(y, x, x_avged, driftType)\u001b[0m\n\u001b[1;32m      7\u001b[0m         \u001b[0my\u001b[0m \u001b[0;34m=\u001b[0m \u001b[0my\u001b[0m \u001b[0;34m+\u001b[0m \u001b[0;34m(\u001b[0m\u001b[0;36m1\u001b[0m\u001b[0;34m/\u001b[0m\u001b[0mepsilon\u001b[0m\u001b[0;34m)\u001b[0m\u001b[0;34m*\u001b[0m\u001b[0mpotential\u001b[0m\u001b[0;34m(\u001b[0m\u001b[0my\u001b[0m\u001b[0;34m,\u001b[0m \u001b[0mx\u001b[0m\u001b[0;34m,\u001b[0m \u001b[0mdriftType\u001b[0m\u001b[0;34m)\u001b[0m\u001b[0;34m*\u001b[0m\u001b[0mh\u001b[0m \u001b[0;34m+\u001b[0m \u001b[0;34m(\u001b[0m\u001b[0mnp\u001b[0m\u001b[0;34m.\u001b[0m\u001b[0msqrt\u001b[0m\u001b[0;34m(\u001b[0m\u001b[0;36m2\u001b[0m\u001b[0;34m)\u001b[0m\u001b[0;34m*\u001b[0m\u001b[0msqrth\u001b[0m\u001b[0;34m/\u001b[0m\u001b[0msqrtEp\u001b[0m\u001b[0;34m)\u001b[0m \u001b[0;34m*\u001b[0m \u001b[0mnp\u001b[0m\u001b[0;34m.\u001b[0m\u001b[0mrandom\u001b[0m\u001b[0;34m.\u001b[0m\u001b[0mrandn\u001b[0m\u001b[0;34m(\u001b[0m\u001b[0mn_particles\u001b[0m\u001b[0;34m)\u001b[0m\u001b[0;34m\u001b[0m\u001b[0;34m\u001b[0m\u001b[0m\n\u001b[1;32m      8\u001b[0m         \u001b[0mx\u001b[0m\u001b[0;34m=\u001b[0m \u001b[0mx\u001b[0m \u001b[0;34m-\u001b[0m \u001b[0;34m(\u001b[0m\u001b[0my\u001b[0m\u001b[0;34m+\u001b[0m\u001b[0mx\u001b[0m\u001b[0;34m)\u001b[0m\u001b[0;34m*\u001b[0m\u001b[0mh\u001b[0m \u001b[0;34m+\u001b[0m \u001b[0msqrth\u001b[0m \u001b[0;34m*\u001b[0m \u001b[0mnp\u001b[0m\u001b[0;34m.\u001b[0m\u001b[0mrandom\u001b[0m\u001b[0;34m.\u001b[0m\u001b[0mrandn\u001b[0m\u001b[0;34m(\u001b[0m\u001b[0mn_particles\u001b[0m\u001b[0;34m)\u001b[0m\u001b[0;34m\u001b[0m\u001b[0;34m\u001b[0m\u001b[0m\n\u001b[0;32m----> 9\u001b[0;31m         \u001b[0mx_avged\u001b[0m \u001b[0;34m=\u001b[0m \u001b[0mx_avged\u001b[0m \u001b[0;34m-\u001b[0m \u001b[0mx_avged\u001b[0m\u001b[0;34m*\u001b[0m\u001b[0mh\u001b[0m \u001b[0;34m+\u001b[0m \u001b[0msqrth\u001b[0m \u001b[0;34m*\u001b[0m \u001b[0mnp\u001b[0m\u001b[0;34m.\u001b[0m\u001b[0mrandom\u001b[0m\u001b[0;34m.\u001b[0m\u001b[0mrandn\u001b[0m\u001b[0;34m(\u001b[0m\u001b[0mn_particles\u001b[0m\u001b[0;34m)\u001b[0m\u001b[0;34m\u001b[0m\u001b[0;34m\u001b[0m\u001b[0m\n\u001b[0m\u001b[1;32m     10\u001b[0m         \u001b[0mmeans\u001b[0m\u001b[0;34m[\u001b[0m\u001b[0mi\u001b[0m\u001b[0;34m]\u001b[0m \u001b[0;34m=\u001b[0m \u001b[0mnp\u001b[0m\u001b[0;34m.\u001b[0m\u001b[0mabs\u001b[0m\u001b[0;34m(\u001b[0m\u001b[0mnp\u001b[0m\u001b[0;34m.\u001b[0m\u001b[0mmean\u001b[0m\u001b[0;34m(\u001b[0m\u001b[0mx\u001b[0m \u001b[0;34m-\u001b[0m \u001b[0mx_avged\u001b[0m\u001b[0;34m)\u001b[0m\u001b[0;34m)\u001b[0m\u001b[0;34m\u001b[0m\u001b[0;34m\u001b[0m\u001b[0m\n\u001b[1;32m     11\u001b[0m         \u001b[0mvar\u001b[0m\u001b[0;34m[\u001b[0m\u001b[0mi\u001b[0m\u001b[0;34m]\u001b[0m \u001b[0;34m=\u001b[0m \u001b[0mnp\u001b[0m\u001b[0;34m.\u001b[0m\u001b[0mabs\u001b[0m\u001b[0;34m(\u001b[0m\u001b[0mnp\u001b[0m\u001b[0;34m.\u001b[0m\u001b[0mmean\u001b[0m\u001b[0;34m(\u001b[0m\u001b[0mx\u001b[0m\u001b[0;34m**\u001b[0m\u001b[0;36m2\u001b[0m\u001b[0;34m-\u001b[0m\u001b[0mx_avged\u001b[0m\u001b[0;34m**\u001b[0m\u001b[0;36m2\u001b[0m\u001b[0;34m)\u001b[0m\u001b[0;34m)\u001b[0m\u001b[0;34m\u001b[0m\u001b[0;34m\u001b[0m\u001b[0m\n",
      "\u001b[0;31mKeyboardInterrupt\u001b[0m: "
     ]
    }
   ],
   "source": [
    "for i in range(1):\n",
    "    n_particles = 10**5 # number of particles\n",
    "\n",
    "    n_steps = 10**4        # number of timesteps\n",
    "    t_max = 100              # final time \n",
    "    h = t_max/(n_steps)  # time step\n",
    "    epsilon = 1\n",
    "    sqrth = np.sqrt(h)\n",
    "    sqrtEp = np.sqrt(epsilon)\n",
    "    t = np.linspace(0.,t_max,n_steps)  # times at each time step\n",
    "\n",
    "\n",
    "    print(np.random.uniform(0,1, n_particles).size)\n",
    "    \n",
    "    m, v, x, x_avged, y= dynamics(np.zeros(n_particles), np.zeros( n_particles), np.zeros( n_particles), \"conv\")\n",
    "    plt.plot(v)\n"
   ]
  },
  {
   "cell_type": "code",
   "execution_count": 23,
   "metadata": {},
   "outputs": [
    {
     "name": "stdout",
     "output_type": "stream",
     "text": [
      "1000000\n"
     ]
    },
    {
     "name": "stderr",
     "output_type": "stream",
     "text": [
      "/home/s1992251/anaconda3/lib/python3.7/site-packages/ipykernel_launcher.py:12: RuntimeWarning: divide by zero encountered in log10\n",
      "  if sys.path[0] == '':\n",
      "/home/s1992251/anaconda3/lib/python3.7/site-packages/ipykernel_launcher.py:12: RuntimeWarning: invalid value encountered in double_scalars\n",
      "  if sys.path[0] == '':\n"
     ]
    },
    {
     "name": "stdout",
     "output_type": "stream",
     "text": [
      "1\n",
      "10\n",
      "100\n",
      "1000\n"
     ]
    }
   ],
   "source": [
    "v = []\n",
    "\n",
    "n_particles = 10**6 # number of particles\n",
    "\n",
    "n_steps = 10**4        # number of timesteps\n",
    "t_max = 10              # final time \n",
    "h = t_max/(n_steps)  # time step\n",
    "epsilon = 0.1\n",
    "sqrth = np.sqrt(h)\n",
    "sqrtEp = np.sqrt(epsilon)\n",
    "t = np.linspace(0.,t_max,n_steps)  # times at each time step\n",
    "\n",
    "\n",
    "print(np.random.uniform(0,1, n_particles).size)\n",
    "v.append(dynamics(np.zeros(n_particles), np.zeros( n_particles), np.zeros( n_particles), \"doubleWell\")[1])\n"
   ]
  },
  {
   "cell_type": "code",
   "execution_count": 24,
   "metadata": {},
   "outputs": [
    {
     "data": {
      "image/png": "[encoded data removed]",
      "text/plain": [
       "<Figure size 432x288 with 1 Axes>"
      ]
     },
     "metadata": {
      "needs_background": "light"
     },
     "output_type": "display_data"
    }
   ],
   "source": [
    "plt.plot(np.mean(v, axis = 0))\n",
    "plt.xlabel(\"Time\")\n",
    "plt.title(\"abs(average equation variance - true equation variance)\")\n",
    "plt.ylabel(\"Absolute difference in variance\")\n",
    "plt.savefig(\"NumericalEvidenceVarDW.eps\", format = \"eps\")"
   ]
  },
  {
   "cell_type": "code",
   "execution_count": 13,
   "metadata": {},
   "outputs": [
    {
     "data": {
      "text/plain": [
       "[0.16378072041169958]"
      ]
     },
     "execution_count": 13,
     "metadata": {},
     "output_type": "execute_result"
    }
   ],
   "source": [
    "v"
   ]
  },
  {
   "cell_type": "code",
   "execution_count": 27,
   "metadata": {},
   "outputs": [
    {
     "name": "stderr",
     "output_type": "stream",
     "text": [
      "/home/s1992251/anaconda3/lib/python3.7/site-packages/ipykernel_launcher.py:12: RuntimeWarning: divide by zero encountered in log10\n",
      "  if sys.path[0] == '':\n",
      "/home/s1992251/anaconda3/lib/python3.7/site-packages/ipykernel_launcher.py:12: RuntimeWarning: invalid value encountered in double_scalars\n",
      "  if sys.path[0] == '':\n"
     ]
    },
    {
     "name": "stdout",
     "output_type": "stream",
     "text": [
      "1\n",
      "10\n",
      "100\n",
      "1000\n",
      "1\n",
      "10\n",
      "100\n",
      "1000\n",
      "1\n",
      "10\n",
      "100\n",
      "1000\n",
      "1\n",
      "10\n",
      "100\n",
      "1000\n",
      "1\n",
      "10\n",
      "100\n",
      "1000\n"
     ]
    },
    {
     "ename": "KeyboardInterrupt",
     "evalue": "",
     "output_type": "error",
     "traceback": [
      "\u001b[0;31m---------------------------------------------------------------------------\u001b[0m",
      "\u001b[0;31mKeyboardInterrupt\u001b[0m                         Traceback (most recent call last)",
      "\u001b[0;32m<ipython-input-27-224e94132bbb>\u001b[0m in \u001b[0;36m<module>\u001b[0;34m\u001b[0m\n\u001b[1;32m     12\u001b[0m \u001b[0;34m\u001b[0m\u001b[0m\n\u001b[1;32m     13\u001b[0m \u001b[0;34m\u001b[0m\u001b[0m\n\u001b[0;32m---> 14\u001b[0;31m     \u001b[0mv\u001b[0m\u001b[0;34m.\u001b[0m\u001b[0mappend\u001b[0m\u001b[0;34m(\u001b[0m\u001b[0mdynamics\u001b[0m\u001b[0;34m(\u001b[0m\u001b[0mnp\u001b[0m\u001b[0;34m.\u001b[0m\u001b[0mzeros\u001b[0m\u001b[0;34m(\u001b[0m\u001b[0mn_particles\u001b[0m\u001b[0;34m)\u001b[0m\u001b[0;34m,\u001b[0m \u001b[0mnp\u001b[0m\u001b[0;34m.\u001b[0m\u001b[0mzeros\u001b[0m\u001b[0;34m(\u001b[0m \u001b[0mn_particles\u001b[0m\u001b[0;34m)\u001b[0m\u001b[0;34m,\u001b[0m \u001b[0mnp\u001b[0m\u001b[0;34m.\u001b[0m\u001b[0mzeros\u001b[0m\u001b[0;34m(\u001b[0m \u001b[0mn_particles\u001b[0m\u001b[0;34m)\u001b[0m\u001b[0;34m,\u001b[0m\u001b[0;34m\"conv\"\u001b[0m\u001b[0;34m)\u001b[0m\u001b[0;34m[\u001b[0m\u001b[0;36m1\u001b[0m\u001b[0;34m]\u001b[0m\u001b[0;34m)\u001b[0m\u001b[0;34m\u001b[0m\u001b[0;34m\u001b[0m\u001b[0m\n\u001b[0m",
      "\u001b[0;32m<ipython-input-20-2ec23c408651>\u001b[0m in \u001b[0;36mdynamics\u001b[0;34m(y, x, x_avged, driftType)\u001b[0m\n\u001b[1;32m      9\u001b[0m         \u001b[0mx_avged\u001b[0m \u001b[0;34m=\u001b[0m \u001b[0mx_avged\u001b[0m \u001b[0;34m-\u001b[0m \u001b[0mx_avged\u001b[0m\u001b[0;34m*\u001b[0m\u001b[0mh\u001b[0m \u001b[0;34m+\u001b[0m \u001b[0msqrth\u001b[0m \u001b[0;34m*\u001b[0m \u001b[0mnp\u001b[0m\u001b[0;34m.\u001b[0m\u001b[0mrandom\u001b[0m\u001b[0;34m.\u001b[0m\u001b[0mrandn\u001b[0m\u001b[0;34m(\u001b[0m\u001b[0mn_particles\u001b[0m\u001b[0;34m)\u001b[0m\u001b[0;34m\u001b[0m\u001b[0;34m\u001b[0m\u001b[0m\n\u001b[1;32m     10\u001b[0m         \u001b[0mmeans\u001b[0m\u001b[0;34m[\u001b[0m\u001b[0mi\u001b[0m\u001b[0;34m]\u001b[0m \u001b[0;34m=\u001b[0m \u001b[0mnp\u001b[0m\u001b[0;34m.\u001b[0m\u001b[0mabs\u001b[0m\u001b[0;34m(\u001b[0m\u001b[0mnp\u001b[0m\u001b[0;34m.\u001b[0m\u001b[0mmean\u001b[0m\u001b[0;34m(\u001b[0m\u001b[0mx\u001b[0m \u001b[0;34m-\u001b[0m \u001b[0mx_avged\u001b[0m\u001b[0;34m)\u001b[0m\u001b[0;34m)\u001b[0m\u001b[0;34m\u001b[0m\u001b[0;34m\u001b[0m\u001b[0m\n\u001b[0;32m---> 11\u001b[0;31m         \u001b[0mvar\u001b[0m\u001b[0;34m[\u001b[0m\u001b[0mi\u001b[0m\u001b[0;34m]\u001b[0m \u001b[0;34m=\u001b[0m \u001b[0mnp\u001b[0m\u001b[0;34m.\u001b[0m\u001b[0mabs\u001b[0m\u001b[0;34m(\u001b[0m\u001b[0mnp\u001b[0m\u001b[0;34m.\u001b[0m\u001b[0mmean\u001b[0m\u001b[0;34m(\u001b[0m\u001b[0mx\u001b[0m\u001b[0;34m**\u001b[0m\u001b[0;36m2\u001b[0m\u001b[0;34m-\u001b[0m\u001b[0mx_avged\u001b[0m\u001b[0;34m**\u001b[0m\u001b[0;36m2\u001b[0m\u001b[0;34m)\u001b[0m\u001b[0;34m)\u001b[0m\u001b[0;34m\u001b[0m\u001b[0;34m\u001b[0m\u001b[0m\n\u001b[0m\u001b[1;32m     12\u001b[0m         \u001b[0;32mif\u001b[0m\u001b[0;34m(\u001b[0m\u001b[0mnp\u001b[0m\u001b[0;34m.\u001b[0m\u001b[0mlog10\u001b[0m\u001b[0;34m(\u001b[0m\u001b[0mi\u001b[0m\u001b[0;34m)\u001b[0m\u001b[0;34m%\u001b[0m\u001b[0;36m1\u001b[0m \u001b[0;34m==\u001b[0m\u001b[0;36m0\u001b[0m\u001b[0;34m)\u001b[0m\u001b[0;34m:\u001b[0m\u001b[0;34m\u001b[0m\u001b[0;34m\u001b[0m\u001b[0m\n\u001b[1;32m     13\u001b[0m             \u001b[0mprint\u001b[0m\u001b[0;34m(\u001b[0m\u001b[0mi\u001b[0m\u001b[0;34m)\u001b[0m\u001b[0;34m\u001b[0m\u001b[0;34m\u001b[0m\u001b[0m\n",
      "\u001b[0;32m~/anaconda3/lib/python3.7/site-packages/numpy/core/fromnumeric.py\u001b[0m in \u001b[0;36mmean\u001b[0;34m(a, axis, dtype, out, keepdims)\u001b[0m\n\u001b[1;32m   3116\u001b[0m \u001b[0;34m\u001b[0m\u001b[0m\n\u001b[1;32m   3117\u001b[0m     return _methods._mean(a, axis=axis, dtype=dtype,\n\u001b[0;32m-> 3118\u001b[0;31m                           out=out, **kwargs)\n\u001b[0m\u001b[1;32m   3119\u001b[0m \u001b[0;34m\u001b[0m\u001b[0m\n\u001b[1;32m   3120\u001b[0m \u001b[0;34m\u001b[0m\u001b[0m\n",
      "\u001b[0;32m~/anaconda3/lib/python3.7/site-packages/numpy/core/_methods.py\u001b[0m in \u001b[0;36m_mean\u001b[0;34m(a, axis, dtype, out, keepdims)\u001b[0m\n\u001b[1;32m     73\u001b[0m             \u001b[0mis_float16_result\u001b[0m \u001b[0;34m=\u001b[0m \u001b[0;32mTrue\u001b[0m\u001b[0;34m\u001b[0m\u001b[0;34m\u001b[0m\u001b[0m\n\u001b[1;32m     74\u001b[0m \u001b[0;34m\u001b[0m\u001b[0m\n\u001b[0;32m---> 75\u001b[0;31m     \u001b[0mret\u001b[0m \u001b[0;34m=\u001b[0m \u001b[0mumr_sum\u001b[0m\u001b[0;34m(\u001b[0m\u001b[0marr\u001b[0m\u001b[0;34m,\u001b[0m \u001b[0maxis\u001b[0m\u001b[0;34m,\u001b[0m \u001b[0mdtype\u001b[0m\u001b[0;34m,\u001b[0m \u001b[0mout\u001b[0m\u001b[0;34m,\u001b[0m \u001b[0mkeepdims\u001b[0m\u001b[0;34m)\u001b[0m\u001b[0;34m\u001b[0m\u001b[0;34m\u001b[0m\u001b[0m\n\u001b[0m\u001b[1;32m     76\u001b[0m     \u001b[0;32mif\u001b[0m \u001b[0misinstance\u001b[0m\u001b[0;34m(\u001b[0m\u001b[0mret\u001b[0m\u001b[0;34m,\u001b[0m \u001b[0mmu\u001b[0m\u001b[0;34m.\u001b[0m\u001b[0mndarray\u001b[0m\u001b[0;34m)\u001b[0m\u001b[0;34m:\u001b[0m\u001b[0;34m\u001b[0m\u001b[0;34m\u001b[0m\u001b[0m\n\u001b[1;32m     77\u001b[0m         ret = um.true_divide(\n",
      "\u001b[0;31mKeyboardInterrupt\u001b[0m: "
     ]
    }
   ],
   "source": [
    "v = []\n",
    "for i in range(1,6):\n",
    "    n_particles = 10**6 # number of particles\n",
    "\n",
    "    n_steps = 10**(4)        # number of timesteps\n",
    "    t_max = 10**(-i+1)              # final time \n",
    "    h = t_max/(n_steps)  # time step\n",
    "    epsilon = 10**(-i)\n",
    "    sqrth = np.sqrt(h)\n",
    "    sqrtEp = np.sqrt(epsilon)\n",
    "    t = np.linspace(0.,t_max,n_steps)  # times at each time step\n",
    "\n",
    "\n",
    "    v.append(dynamics(np.zeros(n_particles), np.zeros( n_particles), np.zeros( n_particles),\"conv\")[1])"
   ]
  },
  {
   "cell_type": "code",
   "execution_count": 29,
   "metadata": {},
   "outputs": [
    {
     "data": {
      "image/png": "[encoded data removed]",
      "text/plain": [
       "<Figure size 432x288 with 1 Axes>"
      ]
     },
     "metadata": {
      "needs_background": "light"
     },
     "output_type": "display_data"
    }
   ],
   "source": [
    "plt.plot([-i for i in range(1,5)], np.log10(np.max(v,axis=1)))\n",
    "plt.plot([-i for i in range(1,5)], [-i for i in range(1,5)])\n",
    "plt.xlabel(\"Log Epsilon\")\n",
    "plt.title(\"Log log plot of error against epsilon\")\n",
    "plt.ylabel(\"Log Absolute difference in variance\")\n",
    "plt.savefig(\"NumericalEvidenceEps3.eps\", format = \"eps\")"
   ]
  },
  {
   "cell_type": "code",
   "execution_count": 78,
   "metadata": {},
   "outputs": [
    {
     "data": {
      "text/plain": [
       "(array([   5.,    8.,   16.,   25.,   52.,   83.,  156.,  256.,  366.,\n",
       "         489.,  672.,  814.,  938.,  953., 1009.,  941.,  847.,  704.,\n",
       "         559.,  439.,  280.,  162.,  104.,   59.,   34.,   14.,    5.,\n",
       "           5.,    3.,    2.]),\n",
       " array([-2.52695985, -2.34740975, -2.16785965, -1.98830956, -1.80875946,\n",
       "        -1.62920936, -1.44965926, -1.27010916, -1.09055906, -0.91100896,\n",
       "        -0.73145887, -0.55190877, -0.37235867, -0.19280857, -0.01325847,\n",
       "         0.16629163,  0.34584173,  0.52539183,  0.70494192,  0.88449202,\n",
       "         1.06404212,  1.24359222,  1.42314232,  1.60269242,  1.78224252,\n",
       "         1.96179261,  2.14134271,  2.32089281,  2.50044291,  2.67999301,\n",
       "         2.85954311]),\n",
       " <a list of 30 Patch objects>)"
      ]
     },
     "execution_count": 78,
     "metadata": {},
     "output_type": "execute_result"
    },
    {
     "data": {
      "image/png": "[encoded data removed]",
      "text/plain": [
       "<Figure size 432x288 with 1 Axes>"
      ]
     },
     "metadata": {
      "needs_background": "light"
     },
     "output_type": "display_data"
    }
   ],
   "source": [
    "plt.hist(x_avged, bins = 30)\n",
    "plt.hist(x, bins = 30)\n",
    "\n",
    "\n"
   ]
  },
  {
   "cell_type": "code",
   "execution_count": 81,
   "metadata": {},
   "outputs": [
    {
     "data": {
      "text/plain": [
       "(array([2.000e+00, 1.000e+00, 6.000e+00, 1.000e+01, 3.400e+01, 5.600e+01,\n",
       "        9.000e+01, 2.190e+02, 2.940e+02, 4.440e+02, 6.560e+02, 8.460e+02,\n",
       "        9.770e+02, 1.080e+03, 1.110e+03, 1.025e+03, 9.220e+02, 7.470e+02,\n",
       "        5.720e+02, 3.820e+02, 2.430e+02, 1.440e+02, 7.800e+01, 3.900e+01,\n",
       "        1.300e+01, 7.000e+00, 1.000e+00, 0.000e+00, 1.000e+00, 1.000e+00]),\n",
       " array([-2.84876737, -2.64976579, -2.45076422, -2.25176265, -2.05276108,\n",
       "        -1.8537595 , -1.65475793, -1.45575636, -1.25675479, -1.05775322,\n",
       "        -0.85875164, -0.65975007, -0.4607485 , -0.26174693, -0.06274535,\n",
       "         0.13625622,  0.33525779,  0.53425936,  0.73326093,  0.93226251,\n",
       "         1.13126408,  1.33026565,  1.52926722,  1.7282688 ,  1.92727037,\n",
       "         2.12627194,  2.32527351,  2.52427508,  2.72327666,  2.92227823,\n",
       "         3.1212798 ]),\n",
       " <a list of 30 Patch objects>)"
      ]
     },
     "execution_count": 81,
     "metadata": {},
     "output_type": "execute_result"
    },
    {
     "data": {
      "image/png": "[encoded data removed]",
      "text/plain": [
       "<Figure size 432x288 with 1 Axes>"
      ]
     },
     "metadata": {
      "needs_background": "light"
     },
     "output_type": "display_data"
    }
   ],
   "source": [
    "plt.hist(x, bins = 30)\n",
    "plt.hist(x_avged, bins = 30)\n",
    "\n"
   ]
  },
  {
   "cell_type": "code",
   "execution_count": 83,
   "metadata": {},
   "outputs": [
    {
     "data": {
      "text/plain": [
       "(array([4.0000e+00, 2.0000e+01, 8.0000e+01, 2.9600e+02, 8.6300e+02,\n",
       "        2.1960e+03, 4.5890e+03, 8.3110e+03, 1.2867e+04, 1.5789e+04,\n",
       "        1.6741e+04, 1.4790e+04, 1.0937e+04, 6.6770e+03, 3.5410e+03,\n",
       "        1.5410e+03, 5.3500e+02, 1.7300e+02, 3.7000e+01, 1.3000e+01]),\n",
       " array([-3.09292618, -2.79248325, -2.49204031, -2.19159738, -1.89115444,\n",
       "        -1.59071151, -1.29026857, -0.98982564, -0.6893827 , -0.38893977,\n",
       "        -0.08849684,  0.2119461 ,  0.51238903,  0.81283197,  1.1132749 ,\n",
       "         1.41371784,  1.71416077,  2.01460371,  2.31504664,  2.61548958,\n",
       "         2.91593251]),\n",
       " <a list of 20 Patch objects>)"
      ]
     },
     "execution_count": 83,
     "metadata": {},
     "output_type": "execute_result"
    },
    {
     "data": {
      "image/png": "[encoded data removed]",
      "text/plain": [
       "<Figure size 432x288 with 1 Axes>"
      ]
     },
     "metadata": {
      "needs_background": "light"
     },
     "output_type": "display_data"
    }
   ],
   "source": [
    "#epsilon = 0.1\n",
    "plt.hist(x, bins = 20)\n",
    "plt.hist(x_avged, bins = 20)"
   ]
  },
  {
   "cell_type": "code",
   "execution_count": 60,
   "metadata": {},
   "outputs": [
    {
     "name": "stdout",
     "output_type": "stream",
     "text": [
      "0.9997332854037053\n",
      "1.0088506652627554\n"
     ]
    },
    {
     "data": {
      "image/png": "[encoded data removed]",
      "text/plain": [
       "<Figure size 432x288 with 1 Axes>"
      ]
     },
     "metadata": {
      "needs_background": "light"
     },
     "output_type": "display_data"
    }
   ],
   "source": [
    "#epsilon = 0.01\n",
    "\n",
    "plt.hist(y, bins = 30)\n",
    "plt.hist(np.random.normal(0,1,10**4), bins = 27)\n",
    "\n",
    "print(np.var(y))\n",
    "print(np.var(np.random.normal(0,1,10**4)))"
   ]
  },
  {
   "cell_type": "code",
   "execution_count": 35,
   "metadata": {},
   "outputs": [
    {
     "name": "stdout",
     "output_type": "stream",
     "text": [
      "10000\n",
      "0\n",
      "1500\n",
      "3000\n",
      "4500\n",
      "6000\n",
      "7500\n",
      "9000\n",
      "10500\n",
      "12000\n",
      "13500\n",
      "15000\n",
      "16500\n",
      "18000\n",
      "19500\n",
      "21000\n",
      "22500\n",
      "24000\n",
      "25500\n",
      "27000\n",
      "28500\n"
     ]
    },
    {
     "data": {
      "image/png": "[encoded data removed]",
      "text/plain": [
       "<Figure size 432x288 with 1 Axes>"
      ]
     },
     "metadata": {
      "needs_background": "light"
     },
     "output_type": "display_data"
    }
   ],
   "source": [
    "for i in range(1):\n",
    "    n_particles = 10**4 # number of particles\n",
    "\n",
    "    n_steps =3*10**4        # number of timesteps\n",
    "    t_max = 3              # final time \n",
    "    h = t_max/(n_steps)  # time step\n",
    "    epsilon = 0.1\n",
    "    sqrth = np.sqrt(h)\n",
    "    sqrtEp = np.sqrt(epsilon)\n",
    "    t = np.linspace(0.,t_max,n_steps)  # times at each time step\n",
    "\n",
    "\n",
    "    print(np.random.uniform(0,1, n_particles).size)\n",
    "    \n",
    "    m, v, x, x_avged, y= dynamics(np.zeros(n_particles), np.zeros( n_particles), np.zeros( n_particles), \"conv\")\n",
    "    plt.plot(v)"
   ]
  },
  {
   "cell_type": "code",
   "execution_count": 87,
   "metadata": {},
   "outputs": [
    {
     "data": {
      "text/plain": [
       "(array([3.0000e+00, 8.0000e+00, 4.7000e+01, 2.2500e+02, 7.3600e+02,\n",
       "        1.8330e+03, 4.2320e+03, 7.9440e+03, 1.2587e+04, 1.6400e+04,\n",
       "        1.7124e+04, 1.5243e+04, 1.1192e+04, 6.8890e+03, 3.4460e+03,\n",
       "        1.3850e+03, 5.4100e+02, 1.3500e+02, 1.8000e+01, 1.2000e+01]),\n",
       " array([-3.21717563, -2.90644785, -2.59572007, -2.28499228, -1.9742645 ,\n",
       "        -1.66353672, -1.35280894, -1.04208116, -0.73135338, -0.4206256 ,\n",
       "        -0.10989781,  0.20082997,  0.51155775,  0.82228553,  1.13301331,\n",
       "         1.44374109,  1.75446887,  2.06519666,  2.37592444,  2.68665222,\n",
       "         2.99738   ]),\n",
       " <a list of 20 Patch objects>)"
      ]
     },
     "execution_count": 87,
     "metadata": {},
     "output_type": "execute_result"
    },
    {
     "data": {
      "image/png": "[encoded data removed]",
      "text/plain": [
       "<Figure size 432x288 with 1 Axes>"
      ]
     },
     "metadata": {
      "needs_background": "light"
     },
     "output_type": "display_data"
    }
   ],
   "source": [
    "#epsilon = 1\n",
    "\n",
    "plt.hist(x1, bins = 20)\n",
    "plt.hist(x_avged1, bins = 20)"
   ]
  },
  {
   "cell_type": "code",
   "execution_count": 62,
   "metadata": {},
   "outputs": [
    {
     "data": {
      "text/plain": [
       "(array([3.000e+00, 1.400e+01, 3.900e+01, 9.500e+01, 2.370e+02, 5.250e+02,\n",
       "        8.760e+02, 1.264e+03, 1.477e+03, 1.616e+03, 1.342e+03, 1.072e+03,\n",
       "        7.270e+02, 4.240e+02, 1.780e+02, 8.400e+01, 2.100e+01, 4.000e+00,\n",
       "        1.000e+00, 1.000e+00]),\n",
       " array([-2.55929183, -2.28463002, -2.0099682 , -1.73530638, -1.46064456,\n",
       "        -1.18598274, -0.91132092, -0.6366591 , -0.36199729, -0.08733547,\n",
       "         0.18732635,  0.46198817,  0.73664999,  1.01131181,  1.28597363,\n",
       "         1.56063545,  1.83529726,  2.10995908,  2.3846209 ,  2.65928272,\n",
       "         2.93394454]),\n",
       " <a list of 20 Patch objects>)"
      ]
     },
     "execution_count": 62,
     "metadata": {},
     "output_type": "execute_result"
    },
    {
     "data": {
      "image/png": "[encoded data removed]",
      "text/plain": [
       "<Figure size 432x288 with 1 Axes>"
      ]
     },
     "metadata": {
      "needs_background": "light"
     },
     "output_type": "display_data"
    }
   ],
   "source": [
    "plt.hist(x1, bins = 20)"
   ]
  },
  {
   "cell_type": "code",
   "execution_count": 74,
   "metadata": {},
   "outputs": [
    {
     "data": {
      "text/plain": [
       "[<matplotlib.lines.Line2D at 0x7f23f8b99710>]"
      ]
     },
     "execution_count": 74,
     "metadata": {},
     "output_type": "execute_result"
    },
    {
     "data": {
      "image/png": "[encoded data removed]",
      "text/plain": [
       "<Figure size 432x288 with 1 Axes>"
      ]
     },
     "metadata": {
      "needs_background": "light"
     },
     "output_type": "display_data"
    }
   ],
   "source": [
    "plt.plot(v1)"
   ]
  },
  {
   "cell_type": "code",
   "execution_count": 7,
   "metadata": {},
   "outputs": [
    {
     "name": "stdout",
     "output_type": "stream",
     "text": [
      "10000\n",
      "1\n",
      "10\n",
      "100\n"
     ]
    },
    {
     "name": "stderr",
     "output_type": "stream",
     "text": [
      "/home/s1992251/anaconda3/lib/python3.7/site-packages/ipykernel_launcher.py:12: RuntimeWarning: divide by zero encountered in log10\n",
      "  if sys.path[0] == '':\n",
      "/home/s1992251/anaconda3/lib/python3.7/site-packages/ipykernel_launcher.py:12: RuntimeWarning: invalid value encountered in double_scalars\n",
      "  if sys.path[0] == '':\n"
     ]
    },
    {
     "name": "stdout",
     "output_type": "stream",
     "text": [
      "1000\n",
      "10000\n"
     ]
    },
    {
     "data": {
      "image/png": "[encoded data removed]",
      "text/plain": [
       "<Figure size 432x288 with 1 Axes>"
      ]
     },
     "metadata": {
      "needs_background": "light"
     },
     "output_type": "display_data"
    }
   ],
   "source": [
    "for i in range(1):\n",
    "    n_particles = 10**4 # number of particles\n",
    "\n",
    "    n_steps =10**5        # number of timesteps\n",
    "    t_max = 10              # final time \n",
    "    h = t_max/(n_steps)  # time step\n",
    "    epsilon = 0.1\n",
    "    sqrth = np.sqrt(h)\n",
    "    sqrtEp = np.sqrt(epsilon)\n",
    "    t = np.linspace(0.,t_max,n_steps)  # times at each time step\n",
    "\n",
    "\n",
    "    print(np.random.uniform(0,1, n_particles).size)\n",
    "    \n",
    "    m1, v1, x1, x_avged1, y1= dynamics(np.zeros(n_particles), np.zeros( n_particles), np.zeros( n_particles), \"doubleWell\")\n",
    "    plt.plot(v1)"
   ]
  },
  {
   "cell_type": "code",
   "execution_count": 8,
   "metadata": {},
   "outputs": [
    {
     "data": {
      "text/plain": [
       "(array([   6.,    7.,   23.,   49.,  182.,  305.,  615.,  943., 1295.,\n",
       "        1458., 1540., 1352.,  968.,  629.,  345.,  168.,   70.,   29.,\n",
       "          12.,    4.]),\n",
       " array([-2.73013945, -2.45851113, -2.18688281, -1.91525449, -1.64362617,\n",
       "        -1.37199785, -1.10036953, -0.82874121, -0.55711289, -0.28548457,\n",
       "        -0.01385625,  0.25777207,  0.52940039,  0.80102871,  1.07265703,\n",
       "         1.34428535,  1.61591367,  1.88754199,  2.15917031,  2.43079863,\n",
       "         2.70242695]),\n",
       " <a list of 20 Patch objects>)"
      ]
     },
     "execution_count": 8,
     "metadata": {},
     "output_type": "execute_result"
    },
    {
     "data": {
      "image/png": "[encoded data removed]",
      "text/plain": [
       "<Figure size 432x288 with 1 Axes>"
      ]
     },
     "metadata": {
      "needs_background": "light"
     },
     "output_type": "display_data"
    }
   ],
   "source": [
    "plt.hist(x1, bins = 20) #large epsilon, double well\n",
    "plt.hist(x_avged1, bins = 20)"
   ]
  },
  {
   "cell_type": "code",
   "execution_count": 11,
   "metadata": {},
   "outputs": [
    {
     "name": "stdout",
     "output_type": "stream",
     "text": [
      "10000\n",
      "1\n",
      "10\n",
      "100\n"
     ]
    },
    {
     "name": "stderr",
     "output_type": "stream",
     "text": [
      "/home/s1992251/anaconda3/lib/python3.7/site-packages/ipykernel_launcher.py:12: RuntimeWarning: divide by zero encountered in log10\n",
      "  if sys.path[0] == '':\n",
      "/home/s1992251/anaconda3/lib/python3.7/site-packages/ipykernel_launcher.py:12: RuntimeWarning: invalid value encountered in double_scalars\n",
      "  if sys.path[0] == '':\n"
     ]
    },
    {
     "name": "stdout",
     "output_type": "stream",
     "text": [
      "1000\n",
      "10000\n",
      "100000\n"
     ]
    },
    {
     "data": {
      "image/png": "[encoded data removed]",
      "text/plain": [
       "<Figure size 432x288 with 1 Axes>"
      ]
     },
     "metadata": {
      "needs_background": "light"
     },
     "output_type": "display_data"
    }
   ],
   "source": [
    "for i in range(1):\n",
    "    n_particles = 10**4 # number of particles\n",
    "\n",
    "    n_steps =10**6        # number of timesteps\n",
    "    t_max = 5              # final time \n",
    "    h = t_max/(n_steps)  # time step\n",
    "    epsilon = 0.001\n",
    "    sqrth = np.sqrt(h)\n",
    "    sqrtEp = np.sqrt(epsilon)\n",
    "    t = np.linspace(0.,t_max,n_steps)  # times at each time step\n",
    "\n",
    "\n",
    "    print(np.random.uniform(0,1, n_particles).size)\n",
    "    \n",
    "    m1, v1, x1, x_avged1, y1= dynamics(np.zeros(n_particles), np.zeros( n_particles), np.zeros( n_particles), \"doubleWell\")\n",
    "    plt.plot(v1)"
   ]
  },
  {
   "cell_type": "code",
   "execution_count": 10,
   "metadata": {},
   "outputs": [
    {
     "data": {
      "text/plain": [
       "(array([1.000e+00, 8.000e+00, 8.000e+00, 4.300e+01, 9.900e+01, 2.340e+02,\n",
       "        5.070e+02, 8.100e+02, 1.184e+03, 1.486e+03, 1.543e+03, 1.456e+03,\n",
       "        1.103e+03, 7.370e+02, 4.310e+02, 2.150e+02, 9.500e+01, 3.500e+01,\n",
       "        2.000e+00, 3.000e+00]),\n",
       " array([-2.9006789 , -2.62098843, -2.34129796, -2.06160749, -1.78191702,\n",
       "        -1.50222655, -1.22253608, -0.94284561, -0.66315514, -0.38346466,\n",
       "        -0.10377419,  0.17591628,  0.45560675,  0.73529722,  1.01498769,\n",
       "         1.29467816,  1.57436863,  1.8540591 ,  2.13374957,  2.41344004,\n",
       "         2.69313051]),\n",
       " <a list of 20 Patch objects>)"
      ]
     },
     "execution_count": 10,
     "metadata": {},
     "output_type": "execute_result"
    },
    {
     "data": {
      "image/png": "[encoded data removed]",
      "text/plain": [
       "<Figure size 432x288 with 1 Axes>"
      ]
     },
     "metadata": {
      "needs_background": "light"
     },
     "output_type": "display_data"
    }
   ],
   "source": [
    "plt.hist(x1, bins = 20)\n",
    "plt.hist(x_avged1, bins = 20)"
   ]
  },
  {
   "cell_type": "code",
   "execution_count": 8,
   "metadata": {},
   "outputs": [
    {
     "ename": "NameError",
     "evalue": "name 'x1' is not defined",
     "output_type": "error",
     "traceback": [
      "\u001b[0;31m---------------------------------------------------------------------------\u001b[0m",
      "\u001b[0;31mNameError\u001b[0m                                 Traceback (most recent call last)",
      "\u001b[0;32m<ipython-input-8-04358ba4b61b>\u001b[0m in \u001b[0;36m<module>\u001b[0;34m\u001b[0m\n\u001b[0;32m----> 1\u001b[0;31m \u001b[0mx1\u001b[0m\u001b[0;34m\u001b[0m\u001b[0;34m\u001b[0m\u001b[0m\n\u001b[0m",
      "\u001b[0;31mNameError\u001b[0m: name 'x1' is not defined"
     ]
    }
   ],
   "source": [
    "x1"
   ]
  },
  {
   "cell_type": "code",
   "execution_count": 9,
   "metadata": {},
   "outputs": [
    {
     "data": {
      "text/plain": [
       "[array([-0.014436  ,  0.00744616,  0.03274937, ...,  0.00589752,\n",
       "         0.02735073, -0.01793016]),\n",
       " array([-0.0459355 , -0.0378982 ,  0.02930878, ...,  0.06027912,\n",
       "         0.01800689,  0.03386401]),\n",
       " array([-0.10427868,  0.13293667,  0.01427178, ...,  0.07215289,\n",
       "         0.04515488,  0.11105363]),\n",
       " array([-0.14549153, -0.10554889, -0.2124017 , ..., -0.27778497,\n",
       "        -0.47161799,  0.09693869]),\n",
       " array([ 0.79632866,  0.2456133 , -0.63248193, ..., -1.05380401,\n",
       "         0.99648236,  1.05905525])]"
      ]
     },
     "execution_count": 9,
     "metadata": {},
     "output_type": "execute_result"
    }
   ],
   "source": [
    "x"
   ]
  },
  {
   "cell_type": "code",
   "execution_count": 38,
   "metadata": {},
   "outputs": [
    {
     "data": {
      "text/plain": [
       "(array([   3.,    8.,   22.,   68.,  169.,  326.,  599.,  973., 1300.,\n",
       "        1417., 1501., 1248., 1020.,  633.,  419.,  170.,   84.,   32.,\n",
       "           6.,    2.]),\n",
       " array([-1.42146372, -1.28078196, -1.1401002 , -0.99941843, -0.85873667,\n",
       "        -0.71805491, -0.57737315, -0.43669138, -0.29600962, -0.15532786,\n",
       "        -0.01464609,  0.12603567,  0.26671743,  0.40739919,  0.54808096,\n",
       "         0.68876272,  0.82944448,  0.97012625,  1.11080801,  1.25148977,\n",
       "         1.39217153]),\n",
       " <a list of 20 Patch objects>)"
      ]
     },
     "execution_count": 38,
     "metadata": {},
     "output_type": "execute_result"
    },
    {
     "data": {
      "image/png": "[encoded data removed]",
      "text/plain": [
       "<Figure size 432x288 with 1 Axes>"
      ]
     },
     "metadata": {
      "needs_background": "light"
     },
     "output_type": "display_data"
    }
   ],
   "source": [
    "\n",
    "plt.hist(x[4], bins = 20)\n",
    "plt.hist(x[3], bins = 20)\n",
    "plt.hist(x[2], bins = 20)\n",
    "plt.hist(x[1], bins = 20)\n"
   ]
  },
  {
   "cell_type": "code",
   "execution_count": 11,
   "metadata": {},
   "outputs": [
    {
     "data": {
      "text/plain": [
       "array([-0.0459355 , -0.0378982 ,  0.02930878, ...,  0.06027912,\n",
       "        0.01800689,  0.03386401])"
      ]
     },
     "execution_count": 11,
     "metadata": {},
     "output_type": "execute_result"
    }
   ],
   "source": [
    "x[1]"
   ]
  },
  {
   "cell_type": "code",
   "execution_count": 40,
   "metadata": {},
   "outputs": [
    {
     "data": {
      "text/plain": [
       "(array([1.000e+00, 6.000e+00, 9.000e+00, 4.200e+01, 1.120e+02, 2.400e+02,\n",
       "        4.140e+02, 7.130e+02, 1.092e+03, 1.329e+03, 1.438e+03, 1.410e+03,\n",
       "        1.215e+03, 8.890e+02, 5.600e+02, 3.110e+02, 1.520e+02, 4.900e+01,\n",
       "        1.600e+01, 2.000e+00]),\n",
       " array([-1.45668473, -1.32097808, -1.18527143, -1.04956478, -0.91385813,\n",
       "        -0.77815148, -0.64244483, -0.50673818, -0.37103153, -0.23532488,\n",
       "        -0.09961823,  0.03608842,  0.17179507,  0.30750172,  0.44320837,\n",
       "         0.57891502,  0.71462167,  0.85032832,  0.98603497,  1.12174162,\n",
       "         1.25744827]),\n",
       " <a list of 20 Patch objects>)"
      ]
     },
     "execution_count": 40,
     "metadata": {},
     "output_type": "execute_result"
    },
    {
     "data": {
      "image/png": "[encoded data removed]",
      "text/plain": [
       "<Figure size 432x288 with 1 Axes>"
      ]
     },
     "metadata": {
      "needs_background": "light"
     },
     "output_type": "display_data"
    }
   ],
   "source": [
    "plt.hist(x_avged[4], bins = 20)\n",
    "plt.hist(x_avged[3], bins = 20)\n",
    "plt.hist(x_avged[2], bins = 20)\n",
    "plt.hist(x_avged[1], bins = 20)\n"
   ]
  },
  {
   "cell_type": "code",
   "execution_count": 41,
   "metadata": {},
   "outputs": [
    {
     "data": {
      "text/plain": [
       "(array([2.000e+00, 1.000e+00, 1.100e+01, 4.000e+01, 1.050e+02, 2.520e+02,\n",
       "        5.090e+02, 8.390e+02, 1.178e+03, 1.501e+03, 1.574e+03, 1.410e+03,\n",
       "        1.077e+03, 7.300e+02, 4.130e+02, 2.210e+02, 9.000e+01, 3.400e+01,\n",
       "        1.000e+01, 3.000e+00]),\n",
       " array([-2.7527987 , -2.4875335 , -2.22226829, -1.95700309, -1.69173789,\n",
       "        -1.42647268, -1.16120748, -0.89594227, -0.63067707, -0.36541187,\n",
       "        -0.10014666,  0.16511854,  0.43038375,  0.69564895,  0.96091415,\n",
       "         1.22617936,  1.49144456,  1.75670977,  2.02197497,  2.28724017,\n",
       "         2.55250538]),\n",
       " <a list of 20 Patch objects>)"
      ]
     },
     "execution_count": 41,
     "metadata": {},
     "output_type": "execute_result"
    },
    {
     "data": {
      "image/png": "[encoded data removed]",
      "text/plain": [
       "<Figure size 432x288 with 1 Axes>"
      ]
     },
     "metadata": {
      "needs_background": "light"
     },
     "output_type": "display_data"
    }
   ],
   "source": [
    "plt.hist(x_avged[7], bins = 20)\n",
    "plt.hist(x_avged[8], bins = 20)"
   ]
  },
  {
   "cell_type": "code",
   "execution_count": 64,
   "metadata": {},
   "outputs": [],
   "source": [
    "import numpy as np\n",
    "\n",
    "import matplotlib.pyplot as plt\n",
    "import matplotlib.animation as animation\n",
    "HIST_BINS = np.linspace(-3, 3, 20)\n",
    "data = x[0]\n",
    "n, _ = np.histogram(data, HIST_BINS)"
   ]
  },
  {
   "cell_type": "code",
   "execution_count": 65,
   "metadata": {},
   "outputs": [],
   "source": [
    "def prepare_animation(bar_container):\n",
    "\n",
    "    def animate(frame_number):\n",
    "        # simulate new data coming in\n",
    "        data = x[frame_number+1]\n",
    "        n, _ = np.histogram(data, HIST_BINS)\n",
    "        for count, rect in zip(n, bar_container.patches):\n",
    "            rect.set_height(count)\n",
    "        return bar_container.patches\n",
    "    return animate"
   ]
  },
  {
   "cell_type": "code",
   "execution_count": 66,
   "metadata": {},
   "outputs": [
    {
     "name": "stderr",
     "output_type": "stream",
     "text": [
      "Traceback (most recent call last):\n",
      "  File \"/home/s1992251/anaconda3/lib/python3.7/site-packages/matplotlib/cbook/__init__.py\", line 216, in process\n",
      "    func(*args, **kwargs)\n",
      "  File \"/home/s1992251/anaconda3/lib/python3.7/site-packages/matplotlib/animation.py\", line 953, in _start\n",
      "    self._init_draw()\n",
      "  File \"/home/s1992251/anaconda3/lib/python3.7/site-packages/matplotlib/animation.py\", line 1732, in _init_draw\n",
      "    self._draw_frame(next(self.new_frame_seq()))\n",
      "  File \"/home/s1992251/anaconda3/lib/python3.7/site-packages/matplotlib/animation.py\", line 1755, in _draw_frame\n",
      "    self._drawn_artists = self._func(framedata, *self._args)\n",
      "  File \"<ipython-input-65-e2b61a06094b>\", line 7, in animate\n",
      "    for count, rect in zip(n, bar_container.patches):\n",
      "AttributeError: 'silent_list' object has no attribute 'patches'\n"
     ]
    },
    {
     "data": {
      "image/png": "[encoded data removed]",
      "text/plain": [
       "<Figure size 432x288 with 1 Axes>"
      ]
     },
     "metadata": {
      "needs_background": "light"
     },
     "output_type": "display_data"
    }
   ],
   "source": [
    "%matplotlib inline\n",
    "fig, ax = plt.subplots()\n",
    "_, _, bar_container = ax.hist(data)\n",
    "#ax.set_ylim(top=55)  # set safe limit to ensure that all data is visible.\n",
    "\n",
    "ani = animation.FuncAnimation(fig, prepare_animation(bar_container), 100,\n",
    "                              repeat=True, blit=True)\n",
    "plt.show()"
   ]
  },
  {
   "cell_type": "code",
   "execution_count": null,
   "metadata": {},
   "outputs": [],
   "source": []
  },
  {
   "cell_type": "code",
   "execution_count": 61,
   "metadata": {},
   "outputs": [
    {
     "name": "stderr",
     "output_type": "stream",
     "text": [
      "Traceback (most recent call last):\n",
      "  File \"/home/s1992251/anaconda3/lib/python3.7/site-packages/matplotlib/cbook/__init__.py\", line 216, in process\n",
      "    func(*args, **kwargs)\n",
      "  File \"/home/s1992251/anaconda3/lib/python3.7/site-packages/matplotlib/animation.py\", line 953, in _start\n",
      "    self._init_draw()\n",
      "  File \"/home/s1992251/anaconda3/lib/python3.7/site-packages/matplotlib/animation.py\", line 1732, in _init_draw\n",
      "    self._draw_frame(next(self.new_frame_seq()))\n",
      "  File \"/home/s1992251/anaconda3/lib/python3.7/site-packages/matplotlib/animation.py\", line 1755, in _draw_frame\n",
      "    self._drawn_artists = self._func(framedata, *self._args)\n",
      "  File \"<ipython-input-61-95839fb19317>\", line 21, in animate\n",
      "    for count, rect in zip(n, bar_container.patches):\n",
      "AttributeError: 'silent_list' object has no attribute 'patches'\n"
     ]
    },
    {
     "data": {
      "image/png": "[encoded data removed]",
      "text/plain": [
       "<Figure size 432x288 with 1 Axes>"
      ]
     },
     "metadata": {
      "needs_background": "light"
     },
     "output_type": "display_data"
    }
   ],
   "source": []
  },
  {
   "cell_type": "code",
   "execution_count": null,
   "metadata": {},
   "outputs": [],
   "source": []
  }
 ],
 "metadata": {
  "kernelspec": {
   "display_name": "Python 3",
   "language": "python",
   "name": "python3"
  },
  "language_info": {
   "codemirror_mode": {
    "name": "ipython",
    "version": 3
   },
   "file_extension": ".py",
   "mimetype": "text/x-python",
   "name": "python",
   "nbconvert_exporter": "python",
   "pygments_lexer": "ipython3",
   "version": "3.7.3"
  }
 },
 "nbformat": 4,
 "nbformat_minor": 2
}
